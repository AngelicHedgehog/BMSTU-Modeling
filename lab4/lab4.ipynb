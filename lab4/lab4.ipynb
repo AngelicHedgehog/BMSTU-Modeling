{
 "cells": [
  {
   "cell_type": "code",
   "execution_count": 158,
   "metadata": {},
   "outputs": [],
   "source": [
    "import numpy as np\n",
    "import pandas as pd\n",
    "from sklearn.model_selection import train_test_split\n",
    "from sklearn.linear_model import LogisticRegression\n",
    "from sklearn.ensemble import RandomForestClassifier\n",
    "from sklearn.metrics import accuracy_score, recall_score, precision_score"
   ]
  },
  {
   "cell_type": "code",
   "execution_count": 65,
   "metadata": {},
   "outputs": [
    {
     "name": "stdout",
     "output_type": "stream",
     "text": [
      "Количество дубликатов: 0\n"
     ]
    }
   ],
   "source": [
    "df = pd.read_csv('diabetes.csv')\n",
    "\n",
    "# Оценка количества дупликатов и их устранение\n",
    "df_full_size = len(df)\n",
    "df = df.drop_duplicates()\n",
    "print(f'Количество дубликатов: {df_full_size - len(df)}')\n",
    "\n",
    "# Заменяем нулевые занчения на средние значения соотвествующих стоблцов\n",
    "for column_name in ['Glucose', 'BloodPressure', 'SkinThickness', 'Insulin', 'BMI', 'DiabetesPedigreeFunction']:\n",
    "    column_values = df[column_name]\n",
    "    column_mean_value = column_values[column_values != 0].mean()\n",
    "    df[column_name] = column_values.mask(column_values == 0).fillna(column_mean_value)\n",
    "\n",
    "# Разделение выборки на обучающую и тестовую\n",
    "train, test = train_test_split(df, test_size=.2, random_state=42)\n",
    "train_X, train_y = train.loc[:, train.columns != 'Outcome'].copy(), train['Outcome']\n",
    "test_X, test_y = test.loc[:, test.columns != 'Outcome'].copy(), test['Outcome']"
   ]
  },
  {
   "cell_type": "code",
   "execution_count": 154,
   "metadata": {},
   "outputs": [
    {
     "name": "stdout",
     "output_type": "stream",
     "text": [
      "Accuracy = 0.7857142857142857\n",
      "Recall = 0.6\n",
      "Precision = 0.75\n"
     ]
    }
   ],
   "source": [
    "clf = LogisticRegression(\n",
    "    penalty='l2',\n",
    "    tol=1e-5,\n",
    "    fit_intercept=True,\n",
    "    solver='liblinear',\n",
    "    max_iter=200\n",
    ").fit(train_X, train_y)\n",
    "\n",
    "y_true = test_y\n",
    "y_pred = clf.predict(test_X)\n",
    "print(f'Accuracy = {accuracy_score(y_true, y_pred)}')\n",
    "print(f'Recall = {recall_score(y_true, y_pred)}')\n",
    "print(f'Precision = {precision_score(y_true, y_pred)}')"
   ]
  },
  {
   "cell_type": "code",
   "execution_count": 217,
   "metadata": {},
   "outputs": [
    {
     "name": "stdout",
     "output_type": "stream",
     "text": [
      "Accuracy = 0.7467532467532467\n",
      "Recall = 0.6909090909090909\n",
      "Precision = 0.6333333333333333\n"
     ]
    }
   ],
   "source": [
    "clf = RandomForestClassifier(\n",
    "    n_estimators=150,\n",
    "    criterion='entropy',\n",
    "    max_depth=100,\n",
    "    min_samples_split=6,\n",
    "    max_features='log2',\n",
    "    bootstrap=False\n",
    ").fit(train_X, train_y)\n",
    "\n",
    "y_true = test_y\n",
    "y_pred = clf.predict(test_X)\n",
    "print(f'Accuracy = {accuracy_score(y_true, y_pred)}')\n",
    "print(f'Recall = {recall_score(y_true, y_pred)}')\n",
    "print(f'Precision = {precision_score(y_true, y_pred)}')"
   ]
  }
 ],
 "metadata": {
  "kernelspec": {
   "display_name": "Python 3",
   "language": "python",
   "name": "python3"
  },
  "language_info": {
   "codemirror_mode": {
    "name": "ipython",
    "version": 3
   },
   "file_extension": ".py",
   "mimetype": "text/x-python",
   "name": "python",
   "nbconvert_exporter": "python",
   "pygments_lexer": "ipython3",
   "version": "3.11.1"
  }
 },
 "nbformat": 4,
 "nbformat_minor": 2
}
